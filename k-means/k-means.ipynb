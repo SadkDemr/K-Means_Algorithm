{
 "cells": [
  {
   "cell_type": "markdown",
   "metadata": {},
   "source": [
    "# K-Means Algoritması\n",
    "\n",
    "Öncelikle, ***K-Means algoritması*** bir sınıflandırma algoritmasıdır ve veri kümelerini k-sayıda gruplara ayırmayı amaçlar. Bu algoritma, veri setlerinde bulunan verileri gruplara ayıran bir sınıflandırma algoritmasıdır. Örneğin, müşteri verilerini sınıflandırırken kullanılabilir veya sosyal ağ verilerini gruplara ayırırken kullanılabilir.\n",
    "\n",
    "**Iris veri seti**, iris çiçeğinin özelliklerini içeren bir veri setidir. Bu veri setinde, iris çiçeğinin sepals ve petals uzunluk ve genişlik özellikleri bulunmaktadır. Bu veri seti, sınıflandırma algoritmalarının test edilmesinde sıkça kullanılır.\n",
    "\n",
    "Iris veri seti, çiçeklerin uzunluk ve genişlik ölçümlerini içeren bir veri setidir. Bu veri setini kullanarak, K-Means algoritmasını kullanarak çiçekleri 3 farklı tipe ayırmayı deneyeceğiz.\n"
   ]
  },
  {
   "cell_type": "markdown",
   "metadata": {},
   "source": [
    "İlk olarak, gerekli kütüphaneleri içe aktarın ve veri setini yüklüyoruz:"
   ]
  },
  {
   "cell_type": "code",
   "execution_count": 2,
   "metadata": {},
   "outputs": [],
   "source": [
    "# veri setini yüklemek için\n",
    "from sklearn.datasets import load_iris\n",
    "# verileri eğitim ve test veri setlerine ayırmak için\n",
    "from sklearn.model_selection import train_test_split\n",
    "# K-Means algoritmasını uygulamak için\n",
    "from sklearn.cluster import KMeans\n",
    "# sınıflandırma sonuçlarını değerlendirmek için\n",
    "from sklearn.metrics import accuracy_score\n",
    "from sklearn.metrics import confusion_matrix\n",
    "# histogram oluşturmak için\n",
    "import matplotlib.pyplot as plt\n",
    "import seaborn as sns"
   ]
  },
  {
   "cell_type": "markdown",
   "metadata": {},
   "source": [
    "Daha sonra, Iris veri setini yükleyip ve verileri ve hedef etiketleri ayrıştırıyoruz:"
   ]
  },
  {
   "cell_type": "code",
   "execution_count": 3,
   "metadata": {},
   "outputs": [
    {
     "name": "stdout",
     "output_type": "stream",
     "text": [
      "Veri Seti Özellikleri:\n",
      "['sepal length (cm)', 'sepal width (cm)', 'petal length (cm)', 'petal width (cm)']\n",
      "Veri Seti Örnekleri:\n",
      "[[5.1 3.5 1.4 0.2]\n",
      " [4.9 3.  1.4 0.2]\n",
      " [4.7 3.2 1.3 0.2]\n",
      " [4.6 3.1 1.5 0.2]\n",
      " [5.  3.6 1.4 0.2]]\n",
      "Veri Seti Hedef Etiketleri:\n",
      "[0 0 0 0 0 0 0 0 0 0 0 0 0 0 0 0 0 0 0 0 0 0 0 0 0 0 0 0 0 0 0 0 0 0 0 0 0\n",
      " 0 0 0 0 0 0 0 0 0 0 0 0 0 1 1 1 1 1 1 1 1 1 1 1 1 1 1 1 1 1 1 1 1 1 1 1 1\n",
      " 1 1 1 1 1 1 1 1 1 1 1 1 1 1 1 1 1 1 1 1 1 1 1 1 1 1 2 2 2 2 2 2 2 2 2 2 2\n",
      " 2 2 2 2 2 2 2 2 2 2 2 2 2 2 2 2 2 2 2 2 2 2 2 2 2 2 2 2 2 2 2 2 2 2 2 2 2\n",
      " 2 2]\n"
     ]
    }
   ],
   "source": [
    "# Iris veri setini yükle\n",
    "iris_dataset = load_iris()\n",
    "\n",
    "# verileri ayrıştır\n",
    "X = iris_dataset.data\n",
    "y = iris_dataset.target\n",
    "\n",
    "# veri setini incele\n",
    "print(\"Veri Seti Özellikleri:\")\n",
    "print(iris_dataset.feature_names)\n",
    "print(\"Veri Seti Örnekleri:\")\n",
    "print(X[:5])\n",
    "print(\"Veri Seti Hedef Etiketleri:\")\n",
    "print(y)\n"
   ]
  },
  {
   "cell_type": "markdown",
   "metadata": {},
   "source": [
    "Verilerin histogramını oluşturuyoruz:"
   ]
  },
  {
   "cell_type": "code",
   "execution_count": 5,
   "metadata": {},
   "outputs": [
    {
     "data": {
      "image/png": "[encoded data removed]",
      "text/plain": [
       "<Figure size 432x288 with 1 Axes>"
      ]
     },
     "metadata": {
      "needs_background": "light"
     },
     "output_type": "display_data"
    },
    {
     "data": {
      "image/png": "[encoded data removed]",
      "text/plain": [
       "<Figure size 432x288 with 1 Axes>"
      ]
     },
     "metadata": {
      "needs_background": "light"
     },
     "output_type": "display_data"
    },
    {
     "data": {
      "image/png": "[encoded data removed]",
      "text/plain": [
       "<Figure size 432x288 with 1 Axes>"
      ]
     },
     "metadata": {
      "needs_background": "light"
     },
     "output_type": "display_data"
    },
    {
     "data": {
      "image/png": "[encoded data removed]",
      "text/plain": [
       "<Figure size 432x288 with 1 Axes>"
      ]
     },
     "metadata": {
      "needs_background": "light"
     },
     "output_type": "display_data"
    }
   ],
   "source": [
    "# histogram oluştur\n",
    "for i in range(4):\n",
    "    plt.hist(X[:, i], bins=20)\n",
    "    plt.title(iris_dataset.feature_names[i])\n",
    "    plt.show()"
   ]
  },
  {
   "cell_type": "markdown",
   "metadata": {},
   "source": [
    "Verileri eğitim ve test veri setlerine ayırmak için ***train_test_split*** fonksiyonunu kullanacağız:"
   ]
  },
  {
   "cell_type": "code",
   "execution_count": 11,
   "metadata": {},
   "outputs": [
    {
     "name": "stdout",
     "output_type": "stream",
     "text": [
      "Train Veri Seti Örnekleri:\n",
      "[[4.5 2.3 1.3 0.3]\n",
      " [6.7 3.  5.  1.7]\n",
      " [4.8 3.1 1.6 0.2]\n",
      " [6.  2.2 4.  1. ]\n",
      " [5.1 2.5 3.  1.1]]\n",
      "Test Veri Seti Örnekleri:\n",
      "[[6.7 3.1 4.7 1.5]\n",
      " [5.6 2.7 4.2 1.3]\n",
      " [6.7 3.1 5.6 2.4]\n",
      " [5.9 3.  4.2 1.5]\n",
      " [5.8 2.7 4.1 1. ]]\n",
      "Train Veri Seti Hedef Etiketleri:\n",
      "[0 1 0 1 1 0 1 2 0 1 0 1 1 2 1 2 2 1 0 1 2 0 1 2 0 1 2 0 2 2 0 0 2 0 0 2 0\n",
      " 0 2 0 2 1 0 1 0 2 0 1 0 1 0 1 1 2 1 2 2 2 0 2 0 1 1 2 0 1 2 1 0 2 2 0 2 1\n",
      " 2 1 2 1 2 1 2 0 1 2 0 0 0 0 2 1 0 0 0 1 2 1 0 2 1 2 2 0 1 2 0 1 1 0 0 1 0\n",
      " 0 0 2 2 1 2 2 2 2]\n",
      "Test Veri Seti Hedef Etiketleri:\n",
      "[1 1 2 1 1 2 0 2 0 2 2 0 0 2 0 1 1 1 1 1 1 0 1 2 2 1 1 0 2 0]\n"
     ]
    }
   ],
   "source": [
    "# verileri eğitim ve test veri setlerine ayır\n",
    "X_train, X_test, y_train, y_test = train_test_split(X, y, test_size=0.2)\n",
    "\n",
    "# ayırılan veri setlerini incele\n",
    "print(\"Train Veri Seti Örnekleri:\")\n",
    "print(X_train[:5])\n",
    "print(\"Test Veri Seti Örnekleri:\")\n",
    "print(X_test[:5])\n",
    "print(\"Train Veri Seti Hedef Etiketleri:\")\n",
    "print(y_train)\n",
    "print(\"Test Veri Seti Hedef Etiketleri:\")\n",
    "print(y_test)"
   ]
  },
  {
   "cell_type": "markdown",
   "metadata": {},
   "source": [
    "Verileri eğitim ve test veri setlerine ayırdıktan sonra, K-Means algoritmasını kullanarak eğitim verilerini sınıflandırırız:"
   ]
  },
  {
   "cell_type": "code",
   "execution_count": 12,
   "metadata": {},
   "outputs": [
    {
     "name": "stdout",
     "output_type": "stream",
     "text": [
      "Train Veri Seti Sınıflandırılmış Örnekleri:\n",
      "[0 2 0 1 1 0 1 2 0 1 0 1 1 2 1 2 2 1 0 1 1 0 1 2 0 1 2 0 2 2 0 0 2 0 0 2 0\n",
      " 0 2 0 2 2 0 1 0 1 0 1 0 1 0 1 1 1 1 1 1 2 0 2 0 1 1 2 0 1 2 1 0 1 1 0 2 1\n",
      " 1 1 2 1 1 1 2 0 1 2 0 0 0 0 2 1 0 0 0 1 2 1 0 2 1 1 1 0 1 2 0 1 1 0 0 1 0\n",
      " 0 0 1 2 1 2 2 2 2]\n"
     ]
    }
   ],
   "source": [
    "# K-Means algoritmasını uygula\n",
    "kmeans = KMeans(n_clusters=3)\n",
    "kmeans.fit(X_train)\n",
    "\n",
    "# sınıflandırılmış verileri incele\n",
    "print(\"Train Veri Seti Sınıflandırılmış Örnekleri:\")\n",
    "print(kmeans.labels_)"
   ]
  },
  {
   "cell_type": "markdown",
   "metadata": {},
   "source": [
    "Test verilerini de aynı şekilde sınıflandırmak için ***predict*** fonksiyonunu kullanabiliriz:"
   ]
  },
  {
   "cell_type": "code",
   "execution_count": 9,
   "metadata": {},
   "outputs": [
    {
     "name": "stdout",
     "output_type": "stream",
     "text": [
      "Sınıflandırılmış Test Veri Seti Örnekleri:\n",
      "[2 1 1 1 2 0 0 2 0 0 2 0 1 1 1 1 1 2 2 1 0 2 2 2 1 1 1 0 1 1]\n"
     ]
    }
   ],
   "source": [
    "# test verilerini sınıflandır\n",
    "y_pred = kmeans.predict(X_test)\n",
    "\n",
    "# sınıflandırılmış verileri incele\n",
    "print(\"Sınıflandırılmış Test Veri Seti Örnekleri:\")\n",
    "print(y_pred)"
   ]
  },
  {
   "cell_type": "markdown",
   "metadata": {},
   "source": [
    "Sınıflandırma sonuçlarını değerlendiririz. Bunun için ***accuracy_score*** ve ***confusion_matrix*** fonksiyonlarını kullanabiliriz:"
   ]
  },
  {
   "cell_type": "code",
   "execution_count": 10,
   "metadata": {},
   "outputs": [
    {
     "name": "stdout",
     "output_type": "stream",
     "text": [
      "Accuracy: 0.8333333333333334\n",
      "Confusion Matrix:\n",
      "[[ 7  0  0]\n",
      " [ 0 10  1]\n",
      " [ 0  4  8]]\n"
     ]
    }
   ],
   "source": [
    "# sınıflandırma doğruluğunu ölç\n",
    "accuracy = accuracy_score(y_test, y_pred)\n",
    "print(\"Accuracy:\", accuracy)\n",
    "\n",
    "# tahminlerin doğruluğunu göster\n",
    "confusion_matrix = confusion_matrix(y_test, y_pred)\n",
    "print(\"Confusion Matrix:\")\n",
    "print(confusion_matrix)"
   ]
  },
  {
   "cell_type": "code",
   "execution_count": 6,
   "metadata": {},
   "outputs": [
    {
     "data": {
      "text/plain": [
       "<function matplotlib.pyplot.show(*args, **kw)>"
      ]
     },
     "execution_count": 6,
     "metadata": {},
     "output_type": "execute_result"
    },
    {
     "data": {
      "image/png": "[encoded data removed]",
      "text/plain": [
       "<Figure size 432x288 with 1 Axes>"
      ]
     },
     "metadata": {
      "needs_background": "light"
     },
     "output_type": "display_data"
    }
   ],
   "source": [
    "# İlk iki özelliği kullanarak grupları görselleştiriyoruz\n",
    "plt.scatter(X[:, 0], X[:, 1], c=predictions)\n",
    "plt.xlabel(\"Sepal length\")\n",
    "plt.ylabel(\"Sepal width\")\n",
    "plt.show"
   ]
  },
  {
   "cell_type": "markdown",
   "metadata": {},
   "source": [
    "Bu proje sırasında, veri setini yükledik, verilerin histogramını oluşturduk, verileri eğitim ve test veri setlerine ayırdık, K-Means algoritmasını kullanarak eğitim verilerini sınıflandırdık ve test verilerini tahmin ettik. Tahmin sonuçlarını değerlendirdik. Son olarak ilk iki özelliği görselleştirdik.\n",
    "\n",
    "Bu proje sırasında kullandığımız bazı önemli fonksiyonlar ve kavramlar şunlardır:\n",
    "\n",
    "->***load_iris***: Iris veri setini yükler.\n",
    "\n",
    "->***KMeans***: K-Means algoritmasını uygular.\n",
    "\n",
    "->***fit***: Algoritmayı verilere göre eğitir.\n",
    "\n",
    "->***predict***: Verileri sınıflandırır.\n",
    "\n",
    "->***accuracy_score***: Sınıflandırma doğruluğunu ölçer.\n",
    "\n",
    "->***confusion_matrix***: Tahminlerin doğruluğunu gösterir.\n"
   ]
  },
  {
   "cell_type": "code",
   "execution_count": null,
   "metadata": {},
   "outputs": [],
   "source": []
  }
 ],
 "metadata": {
  "kernelspec": {
   "display_name": "Python 3",
   "language": "python",
   "name": "python3"
  },
  "language_info": {
   "codemirror_mode": {
    "name": "ipython",
    "version": 3
   },
   "file_extension": ".py",
   "mimetype": "text/x-python",
   "name": "python",
   "nbconvert_exporter": "python",
   "pygments_lexer": "ipython3",
   "version": "3.7.4"
  }
 },
 "nbformat": 4,
 "nbformat_minor": 4
}
